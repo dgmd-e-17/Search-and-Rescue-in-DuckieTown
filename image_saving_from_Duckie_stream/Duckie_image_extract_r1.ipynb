{
 "cells": [
  {
   "cell_type": "code",
   "execution_count": 1,
   "metadata": {},
   "outputs": [],
   "source": [
    "import os\n",
    "import time\n",
    "import base64\n",
    "from PIL import Image\n",
    "from io import BytesIO\n",
    "from selenium import webdriver\n",
    "import chromedriver_autoinstaller\n",
    "import logging"
   ]
  },
  {
   "cell_type": "code",
   "execution_count": 3,
   "metadata": {},
   "outputs": [
    {
     "ename": "AttributeError",
     "evalue": "'WebDriver' object has no attribute 'find_element_by_id'",
     "output_type": "error",
     "traceback": [
      "\u001b[0;31m---------------------------------------------------------------------------\u001b[0m",
      "\u001b[0;31mAttributeError\u001b[0m                            Traceback (most recent call last)",
      "Cell \u001b[0;32mIn[3], line 29\u001b[0m\n\u001b[1;32m     26\u001b[0m start_time \u001b[38;5;241m=\u001b[39m time\u001b[38;5;241m.\u001b[39mtime()\n\u001b[1;32m     28\u001b[0m \u001b[38;5;66;03m# Use Selenium to get the computed CSS property for background-image\u001b[39;00m\n\u001b[0;32m---> 29\u001b[0m element \u001b[38;5;241m=\u001b[39m \u001b[43mdriver\u001b[49m\u001b[38;5;241;43m.\u001b[39;49m\u001b[43mfind_element_by_id\u001b[49m(element_id)\n\u001b[1;32m     30\u001b[0m style \u001b[38;5;241m=\u001b[39m element\u001b[38;5;241m.\u001b[39mvalue_of_css_property(\u001b[38;5;124m'\u001b[39m\u001b[38;5;124mbackground-image\u001b[39m\u001b[38;5;124m'\u001b[39m)\n\u001b[1;32m     32\u001b[0m \u001b[38;5;66;03m# Extract base64 content from the style\u001b[39;00m\n",
      "\u001b[0;31mAttributeError\u001b[0m: 'WebDriver' object has no attribute 'find_element_by_id'"
     ]
    }
   ],
   "source": [
    "#Set up logging\n",
    "logging.basicConfig(filename='image_capture_log.txt', level=logging.INFO, format='%(asctime)s:%(levelname)s:%(message)s')\n",
    "\n",
    "\n",
    "\n",
    "# Set up the directory where you want to save the images\n",
    "save_directory = \"/home/skierroe412/image_saving_from_Duckie_stream\"  # Replace this with your desired path\n",
    "os.makedirs(save_directory, exist_ok=True)  # This ensures the directory exists\n",
    "\n",
    "# Automatically install the Chrome Driver\n",
    "chromedriver_autoinstaller.install()\n",
    "\n",
    "# Set up Selenium WebDriver\n",
    "driver = webdriver.Chrome()\n",
    "\n",
    "# Target URL\n",
    "url = \"http://littlenedr4.local/dashboard/robot/mission_control\"\n",
    "driver.get(url)\n",
    "\n",
    "# Give some time for the page and its JS to fully load\n",
    "time.sleep(20)  # Adjust this based on actual page load times\n",
    "\n",
    "try:\n",
    "    element_id = 'block_MnSpIzaJ'  # ID of the element containing the background image\n",
    "    while True:\n",
    "        start_time = time.time()\n",
    "        \n",
    "        # Use Selenium to get the computed CSS property for background-image\n",
    "        element = driver.find_element_by_id(element_id)\n",
    "        style = element.value_of_css_property('background-image')\n",
    "        \n",
    "        # Extract base64 content from the style\n",
    "        prefix = 'data:image/jpeg;base64,'\n",
    "        if prefix in style:\n",
    "            base64_string = style.split(prefix, 1)[1].rsplit(\"'\", 1)[0]\n",
    "            image_data = base64.b64decode(base64_string)\n",
    "            image = Image.open(BytesIO(image_data))\n",
    "            \n",
    "            # Save the image in the specified directory\n",
    "            filename = f\"image_{int(time.time()*1000)}.jpg\"\n",
    "            full_path = os.path.join(save_directory, filename)\n",
    "            image.save(full_path)\n",
    "            # Replace print statements in your script\n",
    "            logging.info(f\"Saved {full_path}\")\n",
    "            logging.error(f\"An error occurred: {e}\")\n",
    "\n",
    "        \n",
    "        # Calculate sleep time to roughly continue at 100ms intervals\n",
    "        elapsed = time.time() - start_time\n",
    "        time.sleep(max(0.1 - elapsed, 0))\n",
    "\n",
    "except KeyboardInterrupt:\n",
    "    print(\"Image fetching stopped manually.\")\n",
    "\n",
    "finally:\n",
    "    driver.quit()"
   ]
  }
 ],
 "metadata": {
  "kernelspec": {
   "display_name": "Python 3",
   "language": "python",
   "name": "python3"
  },
  "language_info": {
   "codemirror_mode": {
    "name": "ipython",
    "version": 3
   },
   "file_extension": ".py",
   "mimetype": "text/x-python",
   "name": "python",
   "nbconvert_exporter": "python",
   "pygments_lexer": "ipython3",
   "version": "3.10.12"
  }
 },
 "nbformat": 4,
 "nbformat_minor": 2
}
