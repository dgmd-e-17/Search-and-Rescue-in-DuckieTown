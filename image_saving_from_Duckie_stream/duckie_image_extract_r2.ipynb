{
 "cells": [
  {
   "cell_type": "code",
   "execution_count": 3,
   "metadata": {},
   "outputs": [],
   "source": [
    "import os\n",
    "import time\n",
    "import base64\n",
    "from PIL import Image\n",
    "from io import BytesIO\n",
    "from selenium import webdriver\n",
    "import chromedriver_autoinstaller\n",
    "import logging\n",
    "from selenium.webdriver.common.by import By  # Import the By class\n"
   ]
  },
  {
   "cell_type": "code",
   "execution_count": 4,
   "metadata": {},
   "outputs": [],
   "source": [
    "# Setup logging\n",
    "logging.basicConfig(filename='image_capture_log.txt', level=logging.INFO, format='%(asctime)s:%(levelname)s:%(message)s')\n",
    "\n",
    "# Set up the directory where you want to save the images\n",
    "save_directory = \"/home/skierroe412/image_saving_from_Duckie_stream\"\n",
    "os.makedirs(save_directory, exist_ok=True)\n",
    "\n",
    "# Setup WebDriver\n",
    "chromedriver_autoinstaller.install()\n",
    "driver = webdriver.Chrome()\n",
    "\n",
    "url = \"http://littlenedr4.local/dashboard/robot/mission_control\"\n",
    "driver.get(url)\n",
    "time.sleep(15)  # Ensure enough time for all connections and scripts to load\n",
    "\n",
    "try:\n",
    "    while True:\n",
    "        start_time = time.time()\n",
    "\n",
    "        element = driver.find_element(By.ID, 'block_MnSpIzaJ')  # Updated to use By.ID\n",
    "        style = element.value_of_css_property('background-image')\n",
    "        \n",
    "        # Check and process the base64 string\n",
    "        if 'base64' in style:\n",
    "            start = style.find(\"base64,\") + 7  # Adjust index to cut 'base64,' part\n",
    "            end = style.rfind('\")')  # Adjust index for the ending quotes and parenthesis\n",
    "            base64_str = style[start:end]\n",
    "            image_data = base64.b64decode(base64_str)\n",
    "            image = Image.open(BytesIO(image_data))\n",
    "            filename = f\"image_{int(time.time()*1000)}.jpeg\"\n",
    "            image_path = os.path.join(save_directory, filename)\n",
    "            image.save(image_path)\n",
    "            logging.info(f\"Saved image at: {image_path}\")\n",
    "\n",
    "        # Adjust timing to repeat approximately every 100ms\n",
    "        elapsed_time = time.time() - start_time\n",
    "        if elapsed_time < 0.1:\n",
    "            time.sleep(0.1 - elapsed_time)\n",
    "\n",
    "except Exception as e:\n",
    "    logging.error(f\"Error occurred: {e}\")\n",
    "\n",
    "finally:\n",
    "    driver.quit()"
   ]
  }
 ],
 "metadata": {
  "kernelspec": {
   "display_name": "Python 3",
   "language": "python",
   "name": "python3"
  },
  "language_info": {
   "codemirror_mode": {
    "name": "ipython",
    "version": 3
   },
   "file_extension": ".py",
   "mimetype": "text/x-python",
   "name": "python",
   "nbconvert_exporter": "python",
   "pygments_lexer": "ipython3",
   "version": "3.10.12"
  }
 },
 "nbformat": 4,
 "nbformat_minor": 2
}
