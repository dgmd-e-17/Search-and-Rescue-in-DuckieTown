{
 "cells": [
  {
   "cell_type": "code",
   "execution_count": 1,
   "metadata": {},
   "outputs": [],
   "source": [
    "import time\n",
    "import re\n",
    "import base64\n",
    "import logging\n",
    "from PIL import Image\n",
    "from io import BytesIO\n",
    "from selenium import webdriver\n",
    "from selenium.webdriver.common.by import By\n",
    "from selenium.webdriver.support.ui import WebDriverWait\n",
    "from selenium.webdriver.support import expected_conditions as EC\n",
    "from datetime import datetime\n"
   ]
  },
  {
   "cell_type": "code",
   "execution_count": 2,
   "metadata": {},
   "outputs": [],
   "source": [
    "\n",
    "# Configure logging\n",
    "logging.basicConfig(filename='selenium_continuous_capture.log', level=logging.INFO, format='%(asctime)s - %(levelname)s - %(message)s')\n",
    "\n",
    "# Set up WebDriver\n",
    "driver = webdriver.Chrome()\n",
    "logging.info(\"WebDriver initiated.\")\n",
    "\n",
    "url = \"http://littlenedr4.local/dashboard/robot/mission_control\"\n",
    "driver.get(url)\n",
    "logging.info(f\"URL loaded: {url}\")\n",
    "\n",
    "try:\n",
    "    # Allow time for all scripts and dynamic content to load\n",
    "    time.sleep(30)\n",
    "    logging.info(\"Waited 30 seconds for page and scripts to load.\")\n",
    "\n",
    "    while True:\n",
    "        try:\n",
    "            elements = driver.find_elements(By.CSS_SELECTOR, '[data-renderer=\"SensorMsgs_CompressedImage\"]')\n",
    "            if elements:\n",
    "                element = elements[0]  # Assuming the first element is the correct one\n",
    "                style = element.value_of_css_property('background-image')\n",
    "                logging.info(f\"Style attribute fetched: {style}\")\n",
    "\n",
    "                url_match = re.search(r'url\\(\"([^\"]+)\"\\)', style)\n",
    "                if url_match:\n",
    "                    image_url = url_match.group(1)\n",
    "                    if image_url.startswith('data:image'):\n",
    "                        base64_str = image_url.split('base64,')[1]\n",
    "                        image_data = base64.b64decode(base64_str)\n",
    "                        image = Image.open(BytesIO(image_data))\n",
    "                        timestamp = datetime.now().strftime(\"%Y%m%d_%H%M%S_%f\")  # Generates timestamp\n",
    "                        filename = f\"image_{timestamp}.jpg\"\n",
    "                        image.save(filename)\n",
    "                        logging.info(f\"Image saved: {filename}\")\n",
    "                    else:\n",
    "                        logging.warning(\"No base64 image in URL.\")\n",
    "                else:\n",
    "                    logging.warning(\"No URL could be extracted.\")\n",
    "            else:\n",
    "                logging.warning(\"No elements found with specified selector.\")\n",
    "\n",
    "            time.sleep(1)  # Delay to avoid overloading and to respect the data update rate\n",
    "\n",
    "        except Exception as e:\n",
    "            logging.error(f\"Error during image processing: {e}\")\n",
    "            time.sleep(5)  # Wait some time before trying again in case of an error\n",
    "\n",
    "except KeyboardInterrupt:\n",
    "    logging.info(\"Manual interruption received.\")\n",
    "\n",
    "finally:\n",
    "    driver.quit()\n",
    "    logging.info(\"WebDriver session closed.\")"
   ]
  }
 ],
 "metadata": {
  "kernelspec": {
   "display_name": "Python 3",
   "language": "python",
   "name": "python3"
  },
  "language_info": {
   "codemirror_mode": {
    "name": "ipython",
    "version": 3
   },
   "file_extension": ".py",
   "mimetype": "text/x-python",
   "name": "python",
   "nbconvert_exporter": "python",
   "pygments_lexer": "ipython3",
   "version": "3.10.12"
  }
 },
 "nbformat": 4,
 "nbformat_minor": 2
}
