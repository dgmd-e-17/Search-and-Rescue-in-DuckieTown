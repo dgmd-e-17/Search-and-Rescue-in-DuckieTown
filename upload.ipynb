{
 "cells": [
  {
   "cell_type": "code",
   "execution_count": 7,
   "id": "ea1c4d4b-0182-4c9c-974f-a7348d32b851",
   "metadata": {},
   "outputs": [],
   "source": [
    "# !pip install requests"
   ]
  },
  {
   "cell_type": "code",
   "execution_count": 18,
   "id": "480e5f62-6d15-43ff-959f-02fe0dcc6c4a",
   "metadata": {},
   "outputs": [],
   "source": [
    "import requests\n",
    "from datetime import datetime\n",
    "import json\n",
    "import os"
   ]
  },
  {
   "cell_type": "code",
   "execution_count": 15,
   "id": "0717e7ac-0d23-40e4-9eec-3f901789f087",
   "metadata": {},
   "outputs": [],
   "source": [
    "# Sid: Establish API end point\n",
    "server_endpoint = 'https://r5l50m40ne.execute-api.us-east-1.amazonaws.com/prod/robotics_s3_presignedurl'\n",
    "\n",
    "filename = \"README.md\" \n",
    "\n",
    "# Sid: Logic to update the local image filename and insert a timestamp to ensure unique name in s3\n",
    "file_name = os.path.basename(filename)\n",
    "name, extension = os.path.splitext(file_name)\n",
    "timestamp = datetime.now().strftime(\"%Y%m%d-%H%M%S\")\n",
    "new_file_name = f\"{name}_{timestamp}{extension}\"\n"
   ]
  },
  {
   "cell_type": "code",
   "execution_count": 19,
   "id": "908a4835-5fc2-406f-9ba1-13c6f9357ca3",
   "metadata": {},
   "outputs": [],
   "source": [
    "# Sid: Prepare the data payload as a dictionary\n",
    "data = {\n",
    "        'filename': new_file_name\n",
    "}\n",
    "\n",
    "# Sid: Establish the body ofthe request as the file and key/value of the new filename\n",
    "data = {\"body\": json.dumps({\"filename\": new_file_name})}\n",
    "\n",
    "# Sid: Convert the Python dictionary to a JSON string\n",
    "data_json = json.dumps(data)\n",
    "\n",
    "# Sid: Set the appropriate HTTP headers for sending JSON\n",
    "headers = {'Content-Type': 'application/json'}"
   ]
  },
  {
   "cell_type": "code",
   "execution_count": 20,
   "id": "2333b37c-d553-4207-ab3e-238354c93c81",
   "metadata": {},
   "outputs": [],
   "source": [
    "# Sid: Send a POST request to the API Gateway endpoint\n",
    "response = requests.post(server_endpoint, data=data_json, headers=headers)"
   ]
  },
  {
   "cell_type": "code",
   "execution_count": 21,
   "id": "e2a20aed-c742-4df3-bda8-ae2da38c993b",
   "metadata": {},
   "outputs": [
    {
     "data": {
      "text/plain": [
       "<Response [200]>"
      ]
     },
     "execution_count": 21,
     "metadata": {},
     "output_type": "execute_result"
    }
   ],
   "source": [
    "response"
   ]
  },
  {
   "cell_type": "code",
   "execution_count": 22,
   "id": "68564431-856f-4959-873a-04d0acd85911",
   "metadata": {},
   "outputs": [
    {
     "name": "stdout",
     "output_type": "stream",
     "text": [
      "File was uploaded successfully.\n"
     ]
    }
   ],
   "source": [
    "# Sid: Check if the request was successful\n",
    "if response.status_code == 200:\n",
    "        \n",
    "    # Sid: Parse the response JSON to get the presigned URL\n",
    "    presigned_url_response = response.json()\n",
    "    presigned_url_body = json.loads(presigned_url_response['body'])\n",
    "    presigned_url = presigned_url_body['url']\n",
    "\n",
    "    # Sid: Confirm pre-signed url is in the response payload\n",
    "    if presigned_url:\n",
    "            \n",
    "        # Sid: Open local file and prepare to upload a file to S3\n",
    "        with open(filename, 'rb') as file_data:\n",
    "                upload_response = requests.put(presigned_url, data=file_data)\n",
    "                \n",
    "                # Sid: Confirm success / failure of file upload into s3\n",
    "                if upload_response.status_code == 200:\n",
    "                    print(\"File was uploaded successfully.\")\n",
    "                else:\n",
    "                    print(f\"Failed to upload file: {upload_response.text}\")\n",
    "        \n",
    "    # Sid: Return error message if pre-signed url not in response \n",
    "    else:\n",
    "        print('Presigned URL not found in the response.')\n",
    "    \n",
    "# Sid: Return error message if pre-signed url not in response \n",
    "else:\n",
    "    print('Failed to obtain presigned URL:', response.text)"
   ]
  },
  {
   "cell_type": "code",
   "execution_count": null,
   "id": "57175db3-18b5-4a4f-a6dc-00335f9f2b7c",
   "metadata": {},
   "outputs": [],
   "source": []
  }
 ],
 "metadata": {
  "kernelspec": {
   "display_name": "Python 3 (ipykernel)",
   "language": "python",
   "name": "python3"
  },
  "language_info": {
   "codemirror_mode": {
    "name": "ipython",
    "version": 3
   },
   "file_extension": ".py",
   "mimetype": "text/x-python",
   "name": "python",
   "nbconvert_exporter": "python",
   "pygments_lexer": "ipython3",
   "version": "3.12.2"
  }
 },
 "nbformat": 4,
 "nbformat_minor": 5
}
