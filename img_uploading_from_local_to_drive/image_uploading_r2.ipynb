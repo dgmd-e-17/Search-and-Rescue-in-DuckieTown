{
 "cells": [
  {
   "cell_type": "code",
   "execution_count": null,
   "metadata": {},
   "outputs": [],
   "source": []
  },
  {
   "cell_type": "code",
   "execution_count": 6,
   "metadata": {},
   "outputs": [
    {
     "name": "stdout",
     "output_type": "stream",
     "text": [
      "Uploaded image_20240422_224357_661546.jpg to Google Drive folder ID 1pLjTamBBc3cqv-HMuodznMqGTSyo8vSq\n"
     ]
    },
    {
     "ename": "FileNotFoundError",
     "evalue": "[Errno 2] No such file or directory: '/home/skierroe412/image_saving_from_Duckie_stream/image_20240422_224354_487570.jpg'",
     "output_type": "error",
     "traceback": [
      "\u001b[0;31m---------------------------------------------------------------------------\u001b[0m",
      "\u001b[0;31mFileNotFoundError\u001b[0m                         Traceback (most recent call last)",
      "Cell \u001b[0;32mIn[6], line 41\u001b[0m\n\u001b[1;32m     39\u001b[0m \u001b[38;5;28;01mif\u001b[39;00m filename\u001b[38;5;241m.\u001b[39mendswith(\u001b[38;5;124m\"\u001b[39m\u001b[38;5;124m.jpg\u001b[39m\u001b[38;5;124m\"\u001b[39m):  \u001b[38;5;66;03m# Check for JPEG images\u001b[39;00m\n\u001b[1;32m     40\u001b[0m     local_file_path \u001b[38;5;241m=\u001b[39m os\u001b[38;5;241m.\u001b[39mpath\u001b[38;5;241m.\u001b[39mjoin(local_folder_path, filename)\n\u001b[0;32m---> 41\u001b[0m     \u001b[43mupload_image\u001b[49m\u001b[43m(\u001b[49m\u001b[43mlocal_file_path\u001b[49m\u001b[43m,\u001b[49m\u001b[43m \u001b[49m\u001b[43mfilename\u001b[49m\u001b[43m,\u001b[49m\u001b[43m \u001b[49m\u001b[43mdrive\u001b[49m\u001b[43m,\u001b[49m\u001b[43m \u001b[49m\u001b[43mgdrive_folder_id\u001b[49m\u001b[43m)\u001b[49m\n\u001b[1;32m     43\u001b[0m     \u001b[38;5;66;03m# Wait for specified interval before uploading the next image\u001b[39;00m\n\u001b[1;32m     44\u001b[0m     time\u001b[38;5;241m.\u001b[39msleep(upload_interval)  \n",
      "Cell \u001b[0;32mIn[6], line 29\u001b[0m, in \u001b[0;36mupload_image\u001b[0;34m(filepath, filename, drive, gdrive_folder_id)\u001b[0m\n\u001b[1;32m     24\u001b[0m \u001b[38;5;28;01mdef\u001b[39;00m \u001b[38;5;21mupload_image\u001b[39m(filepath, filename, drive, gdrive_folder_id):\n\u001b[1;32m     25\u001b[0m     gdrive_file \u001b[38;5;241m=\u001b[39m drive\u001b[38;5;241m.\u001b[39mCreateFile({\n\u001b[1;32m     26\u001b[0m         \u001b[38;5;124m'\u001b[39m\u001b[38;5;124mtitle\u001b[39m\u001b[38;5;124m'\u001b[39m: filename,\n\u001b[1;32m     27\u001b[0m         \u001b[38;5;124m'\u001b[39m\u001b[38;5;124mparents\u001b[39m\u001b[38;5;124m'\u001b[39m: [{\u001b[38;5;124m'\u001b[39m\u001b[38;5;124mid\u001b[39m\u001b[38;5;124m'\u001b[39m: gdrive_folder_id}]\n\u001b[1;32m     28\u001b[0m     })\n\u001b[0;32m---> 29\u001b[0m     \u001b[43mgdrive_file\u001b[49m\u001b[38;5;241;43m.\u001b[39;49m\u001b[43mSetContentFile\u001b[49m\u001b[43m(\u001b[49m\u001b[43mfilepath\u001b[49m\u001b[43m)\u001b[49m\n\u001b[1;32m     30\u001b[0m     gdrive_file\u001b[38;5;241m.\u001b[39mUpload()\n\u001b[1;32m     31\u001b[0m     \u001b[38;5;28mprint\u001b[39m(\u001b[38;5;124mf\u001b[39m\u001b[38;5;124m'\u001b[39m\u001b[38;5;124mUploaded \u001b[39m\u001b[38;5;132;01m{\u001b[39;00mfilename\u001b[38;5;132;01m}\u001b[39;00m\u001b[38;5;124m to Google Drive folder ID \u001b[39m\u001b[38;5;132;01m{\u001b[39;00mgdrive_folder_id\u001b[38;5;132;01m}\u001b[39;00m\u001b[38;5;124m'\u001b[39m)\n",
      "File \u001b[0;32m~/.local/lib/python3.10/site-packages/pydrive/files.py:169\u001b[0m, in \u001b[0;36mGoogleDriveFile.SetContentFile\u001b[0;34m(self, filename)\u001b[0m\n\u001b[1;32m    159\u001b[0m \u001b[38;5;28;01mdef\u001b[39;00m \u001b[38;5;21mSetContentFile\u001b[39m(\u001b[38;5;28mself\u001b[39m, filename):\n\u001b[1;32m    160\u001b[0m \u001b[38;5;250m  \u001b[39m\u001b[38;5;124;03m\"\"\"Set content of this file from a file.\u001b[39;00m\n\u001b[1;32m    161\u001b[0m \n\u001b[1;32m    162\u001b[0m \u001b[38;5;124;03m  Opens the file specified by this method.\u001b[39;00m\n\u001b[0;32m   (...)\u001b[0m\n\u001b[1;32m    167\u001b[0m \u001b[38;5;124;03m  :type filename: str.\u001b[39;00m\n\u001b[1;32m    168\u001b[0m \u001b[38;5;124;03m  \"\"\"\u001b[39;00m\n\u001b[0;32m--> 169\u001b[0m   \u001b[38;5;28mself\u001b[39m\u001b[38;5;241m.\u001b[39mcontent \u001b[38;5;241m=\u001b[39m \u001b[38;5;28;43mopen\u001b[39;49m\u001b[43m(\u001b[49m\u001b[43mfilename\u001b[49m\u001b[43m,\u001b[49m\u001b[43m \u001b[49m\u001b[38;5;124;43m'\u001b[39;49m\u001b[38;5;124;43mrb\u001b[39;49m\u001b[38;5;124;43m'\u001b[39;49m\u001b[43m)\u001b[49m\n\u001b[1;32m    170\u001b[0m   \u001b[38;5;28;01mif\u001b[39;00m \u001b[38;5;28mself\u001b[39m\u001b[38;5;241m.\u001b[39mget(\u001b[38;5;124m'\u001b[39m\u001b[38;5;124mtitle\u001b[39m\u001b[38;5;124m'\u001b[39m) \u001b[38;5;129;01mis\u001b[39;00m \u001b[38;5;28;01mNone\u001b[39;00m:\n\u001b[1;32m    171\u001b[0m     \u001b[38;5;28mself\u001b[39m[\u001b[38;5;124m'\u001b[39m\u001b[38;5;124mtitle\u001b[39m\u001b[38;5;124m'\u001b[39m] \u001b[38;5;241m=\u001b[39m filename\n",
      "\u001b[0;31mFileNotFoundError\u001b[0m: [Errno 2] No such file or directory: '/home/skierroe412/image_saving_from_Duckie_stream/image_20240422_224354_487570.jpg'"
     ]
    }
   ],
   "source": [
    "import os\n",
    "import time\n",
    "from pydrive.auth import GoogleAuth\n",
    "from pydrive.drive import GoogleDrive\n",
    "\n",
    "def authenticate():\n",
    "    gauth = GoogleAuth()\n",
    "    gauth.LoadCredentialsFile(\"mycreds.txt\")\n",
    "    if gauth.credentials is None or gauth.access_token_expired:\n",
    "        gauth.LocalWebserverAuth()\n",
    "    else:\n",
    "        gauth.Authorize()\n",
    "    gauth.SaveCredentialsFile(\"mycreds.txt\")\n",
    "    \n",
    "    drive = GoogleDrive(gauth)\n",
    "    return drive\n",
    "\n",
    "drive = authenticate()\n",
    "\n",
    "# Google Drive folder ID and local folder path\n",
    "gdrive_folder_id = '1pLjTamBBc3cqv-HMuodznMqGTSyo8vSq'  # Google Drive Folder ID\n",
    "local_folder_path = '/home/skierroe412/image_saving_from_Duckie_stream'  # Update to your local folder path\n",
    "\n",
    "def upload_image(filepath, filename, drive, gdrive_folder_id):\n",
    "    gdrive_file = drive.CreateFile({\n",
    "        'title': filename,\n",
    "        'parents': [{'id': gdrive_folder_id}]\n",
    "    })\n",
    "    gdrive_file.SetContentFile(filepath)\n",
    "    gdrive_file.Upload()\n",
    "    print(f'Uploaded {filename} to Google Drive folder ID {gdrive_folder_id}')\n",
    "\n",
    "try:\n",
    "    # Interval in seconds between uploads to avoid overwhelming the server\n",
    "    upload_interval = 10\n",
    "    \n",
    "    while True:  # Infinite loop, runs until a keyboard interrupt (Ctrl+C)\n",
    "        for filename in os.listdir(local_folder_path):\n",
    "            if filename.endswith(\".jpg\"):  # Check for JPEG images\n",
    "                local_file_path = os.path.join(local_folder_path, filename)\n",
    "                upload_image(local_file_path, filename, drive, gdrive_folder_id)\n",
    "                \n",
    "                # Wait for specified interval before uploading the next image\n",
    "                time.sleep(upload_interval)  \n",
    "\n",
    "except KeyboardInterrupt:\n",
    "    print(\"Uploads stopped by user.\")\n",
    "\n",
    "\n"
   ]
  }
 ],
 "metadata": {
  "kernelspec": {
   "display_name": "Python 3",
   "language": "python",
   "name": "python3"
  },
  "language_info": {
   "codemirror_mode": {
    "name": "ipython",
    "version": 3
   },
   "file_extension": ".py",
   "mimetype": "text/x-python",
   "name": "python",
   "nbconvert_exporter": "python",
   "pygments_lexer": "ipython3",
   "version": "3.10.12"
  }
 },
 "nbformat": 4,
 "nbformat_minor": 2
}
