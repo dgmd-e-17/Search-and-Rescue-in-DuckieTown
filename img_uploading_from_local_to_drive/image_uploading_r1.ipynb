{
 "cells": [
  {
   "cell_type": "code",
   "execution_count": null,
   "metadata": {},
   "outputs": [],
   "source": []
  },
  {
   "cell_type": "code",
   "execution_count": 7,
   "metadata": {},
   "outputs": [
    {
     "name": "stdout",
     "output_type": "stream",
     "text": [
      "Created file Hello.txt with mimeType text/plain\n"
     ]
    }
   ],
   "source": [
    "from pydrive.auth import GoogleAuth\n",
    "from pydrive.drive import GoogleDrive\n",
    "\n",
    "def authenticate():\n",
    "    gauth = GoogleAuth()\n",
    "    gauth.LoadCredentialsFile(\"mycreds.txt\")\n",
    "    if gauth.credentials is None or gauth.access_token_expired:\n",
    "        gauth.LocalWebserverAuth()\n",
    "    else:\n",
    "        gauth.Authorize()\n",
    "    gauth.SaveCredentialsFile(\"mycreds.txt\")\n",
    "    \n",
    "    drive = GoogleDrive(gauth)\n",
    "    return drive\n",
    "\n",
    "drive = authenticate()\n",
    "\n",
    "gdrive_folder_id = '1pLjTamBBc3cqv-HMuodznMqGTSyo8vSq'  # Google Drive Folder ID where you want to upload files\n",
    "\n",
    "\n"
   ]
  }
 ],
 "metadata": {
  "kernelspec": {
   "display_name": "Python 3",
   "language": "python",
   "name": "python3"
  },
  "language_info": {
   "codemirror_mode": {
    "name": "ipython",
    "version": 3
   },
   "file_extension": ".py",
   "mimetype": "text/x-python",
   "name": "python",
   "nbconvert_exporter": "python",
   "pygments_lexer": "ipython3",
   "version": "3.10.12"
  }
 },
 "nbformat": 4,
 "nbformat_minor": 2
}
